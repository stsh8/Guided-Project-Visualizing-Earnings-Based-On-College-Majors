{
 "cells": [
  {
   "cell_type": "code",
   "execution_count": 1,
   "metadata": {
    "collapsed": true
   },
   "outputs": [],
   "source": [
    "import pandas as pd\n",
    "import matplotlib as plt\n",
    "%matplotlib inline"
   ]
  },
  {
   "cell_type": "code",
   "execution_count": 2,
   "metadata": {},
   "outputs": [
    {
     "name": "stdout",
     "output_type": "stream",
     "text": [
      "Rank                                        1\n",
      "Major_code                               2419\n",
      "Major                   PETROLEUM ENGINEERING\n",
      "Total                                    2339\n",
      "Men                                      2057\n",
      "Women                                     282\n",
      "Major_category                    Engineering\n",
      "ShareWomen                           0.120564\n",
      "Sample_size                                36\n",
      "Employed                                 1976\n",
      "Full_time                                1849\n",
      "Part_time                                 270\n",
      "Full_time_year_round                     1207\n",
      "Unemployed                                 37\n",
      "Unemployment_rate                   0.0183805\n",
      "Median                                 110000\n",
      "P25th                                   95000\n",
      "P75th                                  125000\n",
      "College_jobs                             1534\n",
      "Non_college_jobs                          364\n",
      "Low_wage_jobs                             193\n",
      "Name: 0, dtype: object\n"
     ]
    }
   ],
   "source": [
    "recent_grads = pd.read_csv('recent-grads.csv')\n",
    "print(recent_grads.iloc[0])"
   ]
  },
  {
   "cell_type": "code",
   "execution_count": 3,
   "metadata": {},
   "outputs": [
    {
     "data": {
      "text/html": [
       "<div>\n",
       "<style>\n",
       "    .dataframe thead tr:only-child th {\n",
       "        text-align: right;\n",
       "    }\n",
       "\n",
       "    .dataframe thead th {\n",
       "        text-align: left;\n",
       "    }\n",
       "\n",
       "    .dataframe tbody tr th {\n",
       "        vertical-align: top;\n",
       "    }\n",
       "</style>\n",
       "<table border=\"1\" class=\"dataframe\">\n",
       "  <thead>\n",
       "    <tr style=\"text-align: right;\">\n",
       "      <th></th>\n",
       "      <th>Rank</th>\n",
       "      <th>Major_code</th>\n",
       "      <th>Major</th>\n",
       "      <th>Total</th>\n",
       "      <th>Men</th>\n",
       "      <th>Women</th>\n",
       "      <th>Major_category</th>\n",
       "      <th>ShareWomen</th>\n",
       "      <th>Sample_size</th>\n",
       "      <th>Employed</th>\n",
       "      <th>...</th>\n",
       "      <th>Part_time</th>\n",
       "      <th>Full_time_year_round</th>\n",
       "      <th>Unemployed</th>\n",
       "      <th>Unemployment_rate</th>\n",
       "      <th>Median</th>\n",
       "      <th>P25th</th>\n",
       "      <th>P75th</th>\n",
       "      <th>College_jobs</th>\n",
       "      <th>Non_college_jobs</th>\n",
       "      <th>Low_wage_jobs</th>\n",
       "    </tr>\n",
       "  </thead>\n",
       "  <tbody>\n",
       "    <tr>\n",
       "      <th>0</th>\n",
       "      <td>1</td>\n",
       "      <td>2419</td>\n",
       "      <td>PETROLEUM ENGINEERING</td>\n",
       "      <td>2339.0</td>\n",
       "      <td>2057.0</td>\n",
       "      <td>282.0</td>\n",
       "      <td>Engineering</td>\n",
       "      <td>0.120564</td>\n",
       "      <td>36</td>\n",
       "      <td>1976</td>\n",
       "      <td>...</td>\n",
       "      <td>270</td>\n",
       "      <td>1207</td>\n",
       "      <td>37</td>\n",
       "      <td>0.018381</td>\n",
       "      <td>110000</td>\n",
       "      <td>95000</td>\n",
       "      <td>125000</td>\n",
       "      <td>1534</td>\n",
       "      <td>364</td>\n",
       "      <td>193</td>\n",
       "    </tr>\n",
       "    <tr>\n",
       "      <th>1</th>\n",
       "      <td>2</td>\n",
       "      <td>2416</td>\n",
       "      <td>MINING AND MINERAL ENGINEERING</td>\n",
       "      <td>756.0</td>\n",
       "      <td>679.0</td>\n",
       "      <td>77.0</td>\n",
       "      <td>Engineering</td>\n",
       "      <td>0.101852</td>\n",
       "      <td>7</td>\n",
       "      <td>640</td>\n",
       "      <td>...</td>\n",
       "      <td>170</td>\n",
       "      <td>388</td>\n",
       "      <td>85</td>\n",
       "      <td>0.117241</td>\n",
       "      <td>75000</td>\n",
       "      <td>55000</td>\n",
       "      <td>90000</td>\n",
       "      <td>350</td>\n",
       "      <td>257</td>\n",
       "      <td>50</td>\n",
       "    </tr>\n",
       "    <tr>\n",
       "      <th>2</th>\n",
       "      <td>3</td>\n",
       "      <td>2415</td>\n",
       "      <td>METALLURGICAL ENGINEERING</td>\n",
       "      <td>856.0</td>\n",
       "      <td>725.0</td>\n",
       "      <td>131.0</td>\n",
       "      <td>Engineering</td>\n",
       "      <td>0.153037</td>\n",
       "      <td>3</td>\n",
       "      <td>648</td>\n",
       "      <td>...</td>\n",
       "      <td>133</td>\n",
       "      <td>340</td>\n",
       "      <td>16</td>\n",
       "      <td>0.024096</td>\n",
       "      <td>73000</td>\n",
       "      <td>50000</td>\n",
       "      <td>105000</td>\n",
       "      <td>456</td>\n",
       "      <td>176</td>\n",
       "      <td>0</td>\n",
       "    </tr>\n",
       "    <tr>\n",
       "      <th>3</th>\n",
       "      <td>4</td>\n",
       "      <td>2417</td>\n",
       "      <td>NAVAL ARCHITECTURE AND MARINE ENGINEERING</td>\n",
       "      <td>1258.0</td>\n",
       "      <td>1123.0</td>\n",
       "      <td>135.0</td>\n",
       "      <td>Engineering</td>\n",
       "      <td>0.107313</td>\n",
       "      <td>16</td>\n",
       "      <td>758</td>\n",
       "      <td>...</td>\n",
       "      <td>150</td>\n",
       "      <td>692</td>\n",
       "      <td>40</td>\n",
       "      <td>0.050125</td>\n",
       "      <td>70000</td>\n",
       "      <td>43000</td>\n",
       "      <td>80000</td>\n",
       "      <td>529</td>\n",
       "      <td>102</td>\n",
       "      <td>0</td>\n",
       "    </tr>\n",
       "    <tr>\n",
       "      <th>4</th>\n",
       "      <td>5</td>\n",
       "      <td>2405</td>\n",
       "      <td>CHEMICAL ENGINEERING</td>\n",
       "      <td>32260.0</td>\n",
       "      <td>21239.0</td>\n",
       "      <td>11021.0</td>\n",
       "      <td>Engineering</td>\n",
       "      <td>0.341631</td>\n",
       "      <td>289</td>\n",
       "      <td>25694</td>\n",
       "      <td>...</td>\n",
       "      <td>5180</td>\n",
       "      <td>16697</td>\n",
       "      <td>1672</td>\n",
       "      <td>0.061098</td>\n",
       "      <td>65000</td>\n",
       "      <td>50000</td>\n",
       "      <td>75000</td>\n",
       "      <td>18314</td>\n",
       "      <td>4440</td>\n",
       "      <td>972</td>\n",
       "    </tr>\n",
       "  </tbody>\n",
       "</table>\n",
       "<p>5 rows × 21 columns</p>\n",
       "</div>"
      ],
      "text/plain": [
       "   Rank  Major_code                                      Major    Total  \\\n",
       "0     1        2419                      PETROLEUM ENGINEERING   2339.0   \n",
       "1     2        2416             MINING AND MINERAL ENGINEERING    756.0   \n",
       "2     3        2415                  METALLURGICAL ENGINEERING    856.0   \n",
       "3     4        2417  NAVAL ARCHITECTURE AND MARINE ENGINEERING   1258.0   \n",
       "4     5        2405                       CHEMICAL ENGINEERING  32260.0   \n",
       "\n",
       "       Men    Women Major_category  ShareWomen  Sample_size  Employed  \\\n",
       "0   2057.0    282.0    Engineering    0.120564           36      1976   \n",
       "1    679.0     77.0    Engineering    0.101852            7       640   \n",
       "2    725.0    131.0    Engineering    0.153037            3       648   \n",
       "3   1123.0    135.0    Engineering    0.107313           16       758   \n",
       "4  21239.0  11021.0    Engineering    0.341631          289     25694   \n",
       "\n",
       "       ...        Part_time  Full_time_year_round  Unemployed  \\\n",
       "0      ...              270                  1207          37   \n",
       "1      ...              170                   388          85   \n",
       "2      ...              133                   340          16   \n",
       "3      ...              150                   692          40   \n",
       "4      ...             5180                 16697        1672   \n",
       "\n",
       "   Unemployment_rate  Median  P25th   P75th  College_jobs  Non_college_jobs  \\\n",
       "0           0.018381  110000  95000  125000          1534               364   \n",
       "1           0.117241   75000  55000   90000           350               257   \n",
       "2           0.024096   73000  50000  105000           456               176   \n",
       "3           0.050125   70000  43000   80000           529               102   \n",
       "4           0.061098   65000  50000   75000         18314              4440   \n",
       "\n",
       "   Low_wage_jobs  \n",
       "0            193  \n",
       "1             50  \n",
       "2              0  \n",
       "3              0  \n",
       "4            972  \n",
       "\n",
       "[5 rows x 21 columns]"
      ]
     },
     "execution_count": 3,
     "metadata": {},
     "output_type": "execute_result"
    }
   ],
   "source": [
    "recent_grads.head()"
   ]
  },
  {
   "cell_type": "code",
   "execution_count": 4,
   "metadata": {},
   "outputs": [
    {
     "data": {
      "text/html": [
       "<div>\n",
       "<style>\n",
       "    .dataframe thead tr:only-child th {\n",
       "        text-align: right;\n",
       "    }\n",
       "\n",
       "    .dataframe thead th {\n",
       "        text-align: left;\n",
       "    }\n",
       "\n",
       "    .dataframe tbody tr th {\n",
       "        vertical-align: top;\n",
       "    }\n",
       "</style>\n",
       "<table border=\"1\" class=\"dataframe\">\n",
       "  <thead>\n",
       "    <tr style=\"text-align: right;\">\n",
       "      <th></th>\n",
       "      <th>Rank</th>\n",
       "      <th>Major_code</th>\n",
       "      <th>Major</th>\n",
       "      <th>Total</th>\n",
       "      <th>Men</th>\n",
       "      <th>Women</th>\n",
       "      <th>Major_category</th>\n",
       "      <th>ShareWomen</th>\n",
       "      <th>Sample_size</th>\n",
       "      <th>Employed</th>\n",
       "      <th>...</th>\n",
       "      <th>Part_time</th>\n",
       "      <th>Full_time_year_round</th>\n",
       "      <th>Unemployed</th>\n",
       "      <th>Unemployment_rate</th>\n",
       "      <th>Median</th>\n",
       "      <th>P25th</th>\n",
       "      <th>P75th</th>\n",
       "      <th>College_jobs</th>\n",
       "      <th>Non_college_jobs</th>\n",
       "      <th>Low_wage_jobs</th>\n",
       "    </tr>\n",
       "  </thead>\n",
       "  <tbody>\n",
       "    <tr>\n",
       "      <th>168</th>\n",
       "      <td>169</td>\n",
       "      <td>3609</td>\n",
       "      <td>ZOOLOGY</td>\n",
       "      <td>8409.0</td>\n",
       "      <td>3050.0</td>\n",
       "      <td>5359.0</td>\n",
       "      <td>Biology &amp; Life Science</td>\n",
       "      <td>0.637293</td>\n",
       "      <td>47</td>\n",
       "      <td>6259</td>\n",
       "      <td>...</td>\n",
       "      <td>2190</td>\n",
       "      <td>3602</td>\n",
       "      <td>304</td>\n",
       "      <td>0.046320</td>\n",
       "      <td>26000</td>\n",
       "      <td>20000</td>\n",
       "      <td>39000</td>\n",
       "      <td>2771</td>\n",
       "      <td>2947</td>\n",
       "      <td>743</td>\n",
       "    </tr>\n",
       "    <tr>\n",
       "      <th>169</th>\n",
       "      <td>170</td>\n",
       "      <td>5201</td>\n",
       "      <td>EDUCATIONAL PSYCHOLOGY</td>\n",
       "      <td>2854.0</td>\n",
       "      <td>522.0</td>\n",
       "      <td>2332.0</td>\n",
       "      <td>Psychology &amp; Social Work</td>\n",
       "      <td>0.817099</td>\n",
       "      <td>7</td>\n",
       "      <td>2125</td>\n",
       "      <td>...</td>\n",
       "      <td>572</td>\n",
       "      <td>1211</td>\n",
       "      <td>148</td>\n",
       "      <td>0.065112</td>\n",
       "      <td>25000</td>\n",
       "      <td>24000</td>\n",
       "      <td>34000</td>\n",
       "      <td>1488</td>\n",
       "      <td>615</td>\n",
       "      <td>82</td>\n",
       "    </tr>\n",
       "    <tr>\n",
       "      <th>170</th>\n",
       "      <td>171</td>\n",
       "      <td>5202</td>\n",
       "      <td>CLINICAL PSYCHOLOGY</td>\n",
       "      <td>2838.0</td>\n",
       "      <td>568.0</td>\n",
       "      <td>2270.0</td>\n",
       "      <td>Psychology &amp; Social Work</td>\n",
       "      <td>0.799859</td>\n",
       "      <td>13</td>\n",
       "      <td>2101</td>\n",
       "      <td>...</td>\n",
       "      <td>648</td>\n",
       "      <td>1293</td>\n",
       "      <td>368</td>\n",
       "      <td>0.149048</td>\n",
       "      <td>25000</td>\n",
       "      <td>25000</td>\n",
       "      <td>40000</td>\n",
       "      <td>986</td>\n",
       "      <td>870</td>\n",
       "      <td>622</td>\n",
       "    </tr>\n",
       "    <tr>\n",
       "      <th>171</th>\n",
       "      <td>172</td>\n",
       "      <td>5203</td>\n",
       "      <td>COUNSELING PSYCHOLOGY</td>\n",
       "      <td>4626.0</td>\n",
       "      <td>931.0</td>\n",
       "      <td>3695.0</td>\n",
       "      <td>Psychology &amp; Social Work</td>\n",
       "      <td>0.798746</td>\n",
       "      <td>21</td>\n",
       "      <td>3777</td>\n",
       "      <td>...</td>\n",
       "      <td>965</td>\n",
       "      <td>2738</td>\n",
       "      <td>214</td>\n",
       "      <td>0.053621</td>\n",
       "      <td>23400</td>\n",
       "      <td>19200</td>\n",
       "      <td>26000</td>\n",
       "      <td>2403</td>\n",
       "      <td>1245</td>\n",
       "      <td>308</td>\n",
       "    </tr>\n",
       "    <tr>\n",
       "      <th>172</th>\n",
       "      <td>173</td>\n",
       "      <td>3501</td>\n",
       "      <td>LIBRARY SCIENCE</td>\n",
       "      <td>1098.0</td>\n",
       "      <td>134.0</td>\n",
       "      <td>964.0</td>\n",
       "      <td>Education</td>\n",
       "      <td>0.877960</td>\n",
       "      <td>2</td>\n",
       "      <td>742</td>\n",
       "      <td>...</td>\n",
       "      <td>237</td>\n",
       "      <td>410</td>\n",
       "      <td>87</td>\n",
       "      <td>0.104946</td>\n",
       "      <td>22000</td>\n",
       "      <td>20000</td>\n",
       "      <td>22000</td>\n",
       "      <td>288</td>\n",
       "      <td>338</td>\n",
       "      <td>192</td>\n",
       "    </tr>\n",
       "  </tbody>\n",
       "</table>\n",
       "<p>5 rows × 21 columns</p>\n",
       "</div>"
      ],
      "text/plain": [
       "     Rank  Major_code                   Major   Total     Men   Women  \\\n",
       "168   169        3609                 ZOOLOGY  8409.0  3050.0  5359.0   \n",
       "169   170        5201  EDUCATIONAL PSYCHOLOGY  2854.0   522.0  2332.0   \n",
       "170   171        5202     CLINICAL PSYCHOLOGY  2838.0   568.0  2270.0   \n",
       "171   172        5203   COUNSELING PSYCHOLOGY  4626.0   931.0  3695.0   \n",
       "172   173        3501         LIBRARY SCIENCE  1098.0   134.0   964.0   \n",
       "\n",
       "               Major_category  ShareWomen  Sample_size  Employed  \\\n",
       "168    Biology & Life Science    0.637293           47      6259   \n",
       "169  Psychology & Social Work    0.817099            7      2125   \n",
       "170  Psychology & Social Work    0.799859           13      2101   \n",
       "171  Psychology & Social Work    0.798746           21      3777   \n",
       "172                 Education    0.877960            2       742   \n",
       "\n",
       "         ...        Part_time  Full_time_year_round  Unemployed  \\\n",
       "168      ...             2190                  3602         304   \n",
       "169      ...              572                  1211         148   \n",
       "170      ...              648                  1293         368   \n",
       "171      ...              965                  2738         214   \n",
       "172      ...              237                   410          87   \n",
       "\n",
       "     Unemployment_rate  Median  P25th  P75th  College_jobs  Non_college_jobs  \\\n",
       "168           0.046320   26000  20000  39000          2771              2947   \n",
       "169           0.065112   25000  24000  34000          1488               615   \n",
       "170           0.149048   25000  25000  40000           986               870   \n",
       "171           0.053621   23400  19200  26000          2403              1245   \n",
       "172           0.104946   22000  20000  22000           288               338   \n",
       "\n",
       "     Low_wage_jobs  \n",
       "168            743  \n",
       "169             82  \n",
       "170            622  \n",
       "171            308  \n",
       "172            192  \n",
       "\n",
       "[5 rows x 21 columns]"
      ]
     },
     "execution_count": 4,
     "metadata": {},
     "output_type": "execute_result"
    }
   ],
   "source": [
    "recent_grads.tail()"
   ]
  },
  {
   "cell_type": "code",
   "execution_count": 5,
   "metadata": {},
   "outputs": [
    {
     "data": {
      "text/html": [
       "<div>\n",
       "<style>\n",
       "    .dataframe thead tr:only-child th {\n",
       "        text-align: right;\n",
       "    }\n",
       "\n",
       "    .dataframe thead th {\n",
       "        text-align: left;\n",
       "    }\n",
       "\n",
       "    .dataframe tbody tr th {\n",
       "        vertical-align: top;\n",
       "    }\n",
       "</style>\n",
       "<table border=\"1\" class=\"dataframe\">\n",
       "  <thead>\n",
       "    <tr style=\"text-align: right;\">\n",
       "      <th></th>\n",
       "      <th>Rank</th>\n",
       "      <th>Major_code</th>\n",
       "      <th>Total</th>\n",
       "      <th>Men</th>\n",
       "      <th>Women</th>\n",
       "      <th>ShareWomen</th>\n",
       "      <th>Sample_size</th>\n",
       "      <th>Employed</th>\n",
       "      <th>Full_time</th>\n",
       "      <th>Part_time</th>\n",
       "      <th>Full_time_year_round</th>\n",
       "      <th>Unemployed</th>\n",
       "      <th>Unemployment_rate</th>\n",
       "      <th>Median</th>\n",
       "      <th>P25th</th>\n",
       "      <th>P75th</th>\n",
       "      <th>College_jobs</th>\n",
       "      <th>Non_college_jobs</th>\n",
       "      <th>Low_wage_jobs</th>\n",
       "    </tr>\n",
       "  </thead>\n",
       "  <tbody>\n",
       "    <tr>\n",
       "      <th>count</th>\n",
       "      <td>173.000000</td>\n",
       "      <td>173.000000</td>\n",
       "      <td>172.000000</td>\n",
       "      <td>172.000000</td>\n",
       "      <td>172.000000</td>\n",
       "      <td>172.000000</td>\n",
       "      <td>173.000000</td>\n",
       "      <td>173.000000</td>\n",
       "      <td>173.000000</td>\n",
       "      <td>173.000000</td>\n",
       "      <td>173.000000</td>\n",
       "      <td>173.000000</td>\n",
       "      <td>173.000000</td>\n",
       "      <td>173.000000</td>\n",
       "      <td>173.000000</td>\n",
       "      <td>173.000000</td>\n",
       "      <td>173.000000</td>\n",
       "      <td>173.000000</td>\n",
       "      <td>173.000000</td>\n",
       "    </tr>\n",
       "    <tr>\n",
       "      <th>mean</th>\n",
       "      <td>87.000000</td>\n",
       "      <td>3879.815029</td>\n",
       "      <td>39370.081395</td>\n",
       "      <td>16723.406977</td>\n",
       "      <td>22646.674419</td>\n",
       "      <td>0.522223</td>\n",
       "      <td>356.080925</td>\n",
       "      <td>31192.763006</td>\n",
       "      <td>26029.306358</td>\n",
       "      <td>8832.398844</td>\n",
       "      <td>19694.427746</td>\n",
       "      <td>2416.329480</td>\n",
       "      <td>0.068191</td>\n",
       "      <td>40151.445087</td>\n",
       "      <td>29501.445087</td>\n",
       "      <td>51494.219653</td>\n",
       "      <td>12322.635838</td>\n",
       "      <td>13284.497110</td>\n",
       "      <td>3859.017341</td>\n",
       "    </tr>\n",
       "    <tr>\n",
       "      <th>std</th>\n",
       "      <td>50.084928</td>\n",
       "      <td>1687.753140</td>\n",
       "      <td>63483.491009</td>\n",
       "      <td>28122.433474</td>\n",
       "      <td>41057.330740</td>\n",
       "      <td>0.231205</td>\n",
       "      <td>618.361022</td>\n",
       "      <td>50675.002241</td>\n",
       "      <td>42869.655092</td>\n",
       "      <td>14648.179473</td>\n",
       "      <td>33160.941514</td>\n",
       "      <td>4112.803148</td>\n",
       "      <td>0.030331</td>\n",
       "      <td>11470.181802</td>\n",
       "      <td>9166.005235</td>\n",
       "      <td>14906.279740</td>\n",
       "      <td>21299.868863</td>\n",
       "      <td>23789.655363</td>\n",
       "      <td>6944.998579</td>\n",
       "    </tr>\n",
       "    <tr>\n",
       "      <th>min</th>\n",
       "      <td>1.000000</td>\n",
       "      <td>1100.000000</td>\n",
       "      <td>124.000000</td>\n",
       "      <td>119.000000</td>\n",
       "      <td>0.000000</td>\n",
       "      <td>0.000000</td>\n",
       "      <td>2.000000</td>\n",
       "      <td>0.000000</td>\n",
       "      <td>111.000000</td>\n",
       "      <td>0.000000</td>\n",
       "      <td>111.000000</td>\n",
       "      <td>0.000000</td>\n",
       "      <td>0.000000</td>\n",
       "      <td>22000.000000</td>\n",
       "      <td>18500.000000</td>\n",
       "      <td>22000.000000</td>\n",
       "      <td>0.000000</td>\n",
       "      <td>0.000000</td>\n",
       "      <td>0.000000</td>\n",
       "    </tr>\n",
       "    <tr>\n",
       "      <th>25%</th>\n",
       "      <td>44.000000</td>\n",
       "      <td>2403.000000</td>\n",
       "      <td>4549.750000</td>\n",
       "      <td>2177.500000</td>\n",
       "      <td>1778.250000</td>\n",
       "      <td>0.336026</td>\n",
       "      <td>39.000000</td>\n",
       "      <td>3608.000000</td>\n",
       "      <td>3154.000000</td>\n",
       "      <td>1030.000000</td>\n",
       "      <td>2453.000000</td>\n",
       "      <td>304.000000</td>\n",
       "      <td>0.050306</td>\n",
       "      <td>33000.000000</td>\n",
       "      <td>24000.000000</td>\n",
       "      <td>42000.000000</td>\n",
       "      <td>1675.000000</td>\n",
       "      <td>1591.000000</td>\n",
       "      <td>340.000000</td>\n",
       "    </tr>\n",
       "    <tr>\n",
       "      <th>50%</th>\n",
       "      <td>87.000000</td>\n",
       "      <td>3608.000000</td>\n",
       "      <td>15104.000000</td>\n",
       "      <td>5434.000000</td>\n",
       "      <td>8386.500000</td>\n",
       "      <td>0.534024</td>\n",
       "      <td>130.000000</td>\n",
       "      <td>11797.000000</td>\n",
       "      <td>10048.000000</td>\n",
       "      <td>3299.000000</td>\n",
       "      <td>7413.000000</td>\n",
       "      <td>893.000000</td>\n",
       "      <td>0.067961</td>\n",
       "      <td>36000.000000</td>\n",
       "      <td>27000.000000</td>\n",
       "      <td>47000.000000</td>\n",
       "      <td>4390.000000</td>\n",
       "      <td>4595.000000</td>\n",
       "      <td>1231.000000</td>\n",
       "    </tr>\n",
       "    <tr>\n",
       "      <th>75%</th>\n",
       "      <td>130.000000</td>\n",
       "      <td>5503.000000</td>\n",
       "      <td>38909.750000</td>\n",
       "      <td>14631.000000</td>\n",
       "      <td>22553.750000</td>\n",
       "      <td>0.703299</td>\n",
       "      <td>338.000000</td>\n",
       "      <td>31433.000000</td>\n",
       "      <td>25147.000000</td>\n",
       "      <td>9948.000000</td>\n",
       "      <td>16891.000000</td>\n",
       "      <td>2393.000000</td>\n",
       "      <td>0.087557</td>\n",
       "      <td>45000.000000</td>\n",
       "      <td>33000.000000</td>\n",
       "      <td>60000.000000</td>\n",
       "      <td>14444.000000</td>\n",
       "      <td>11783.000000</td>\n",
       "      <td>3466.000000</td>\n",
       "    </tr>\n",
       "    <tr>\n",
       "      <th>max</th>\n",
       "      <td>173.000000</td>\n",
       "      <td>6403.000000</td>\n",
       "      <td>393735.000000</td>\n",
       "      <td>173809.000000</td>\n",
       "      <td>307087.000000</td>\n",
       "      <td>0.968954</td>\n",
       "      <td>4212.000000</td>\n",
       "      <td>307933.000000</td>\n",
       "      <td>251540.000000</td>\n",
       "      <td>115172.000000</td>\n",
       "      <td>199897.000000</td>\n",
       "      <td>28169.000000</td>\n",
       "      <td>0.177226</td>\n",
       "      <td>110000.000000</td>\n",
       "      <td>95000.000000</td>\n",
       "      <td>125000.000000</td>\n",
       "      <td>151643.000000</td>\n",
       "      <td>148395.000000</td>\n",
       "      <td>48207.000000</td>\n",
       "    </tr>\n",
       "  </tbody>\n",
       "</table>\n",
       "</div>"
      ],
      "text/plain": [
       "             Rank   Major_code          Total            Men          Women  \\\n",
       "count  173.000000   173.000000     172.000000     172.000000     172.000000   \n",
       "mean    87.000000  3879.815029   39370.081395   16723.406977   22646.674419   \n",
       "std     50.084928  1687.753140   63483.491009   28122.433474   41057.330740   \n",
       "min      1.000000  1100.000000     124.000000     119.000000       0.000000   \n",
       "25%     44.000000  2403.000000    4549.750000    2177.500000    1778.250000   \n",
       "50%     87.000000  3608.000000   15104.000000    5434.000000    8386.500000   \n",
       "75%    130.000000  5503.000000   38909.750000   14631.000000   22553.750000   \n",
       "max    173.000000  6403.000000  393735.000000  173809.000000  307087.000000   \n",
       "\n",
       "       ShareWomen  Sample_size       Employed      Full_time      Part_time  \\\n",
       "count  172.000000   173.000000     173.000000     173.000000     173.000000   \n",
       "mean     0.522223   356.080925   31192.763006   26029.306358    8832.398844   \n",
       "std      0.231205   618.361022   50675.002241   42869.655092   14648.179473   \n",
       "min      0.000000     2.000000       0.000000     111.000000       0.000000   \n",
       "25%      0.336026    39.000000    3608.000000    3154.000000    1030.000000   \n",
       "50%      0.534024   130.000000   11797.000000   10048.000000    3299.000000   \n",
       "75%      0.703299   338.000000   31433.000000   25147.000000    9948.000000   \n",
       "max      0.968954  4212.000000  307933.000000  251540.000000  115172.000000   \n",
       "\n",
       "       Full_time_year_round    Unemployed  Unemployment_rate         Median  \\\n",
       "count            173.000000    173.000000         173.000000     173.000000   \n",
       "mean           19694.427746   2416.329480           0.068191   40151.445087   \n",
       "std            33160.941514   4112.803148           0.030331   11470.181802   \n",
       "min              111.000000      0.000000           0.000000   22000.000000   \n",
       "25%             2453.000000    304.000000           0.050306   33000.000000   \n",
       "50%             7413.000000    893.000000           0.067961   36000.000000   \n",
       "75%            16891.000000   2393.000000           0.087557   45000.000000   \n",
       "max           199897.000000  28169.000000           0.177226  110000.000000   \n",
       "\n",
       "              P25th          P75th   College_jobs  Non_college_jobs  \\\n",
       "count    173.000000     173.000000     173.000000        173.000000   \n",
       "mean   29501.445087   51494.219653   12322.635838      13284.497110   \n",
       "std     9166.005235   14906.279740   21299.868863      23789.655363   \n",
       "min    18500.000000   22000.000000       0.000000          0.000000   \n",
       "25%    24000.000000   42000.000000    1675.000000       1591.000000   \n",
       "50%    27000.000000   47000.000000    4390.000000       4595.000000   \n",
       "75%    33000.000000   60000.000000   14444.000000      11783.000000   \n",
       "max    95000.000000  125000.000000  151643.000000     148395.000000   \n",
       "\n",
       "       Low_wage_jobs  \n",
       "count     173.000000  \n",
       "mean     3859.017341  \n",
       "std      6944.998579  \n",
       "min         0.000000  \n",
       "25%       340.000000  \n",
       "50%      1231.000000  \n",
       "75%      3466.000000  \n",
       "max     48207.000000  "
      ]
     },
     "execution_count": 5,
     "metadata": {},
     "output_type": "execute_result"
    }
   ],
   "source": [
    "recent_grads.describe()"
   ]
  },
  {
   "cell_type": "code",
   "execution_count": 6,
   "metadata": {
    "collapsed": true
   },
   "outputs": [],
   "source": [
    "raw_data_count = recent_grads\n",
    "recent_grads = recent_grads.dropna()"
   ]
  },
  {
   "cell_type": "code",
   "execution_count": 7,
   "metadata": {
    "collapsed": true
   },
   "outputs": [],
   "source": [
    "cleaned_data_count = recent_grads"
   ]
  },
  {
   "cell_type": "code",
   "execution_count": 8,
   "metadata": {
    "scrolled": true
   },
   "outputs": [
    {
     "name": "stdout",
     "output_type": "stream",
     "text": [
      "     Rank  Major_code                                          Major  \\\n",
      "0       1        2419                          PETROLEUM ENGINEERING   \n",
      "1       2        2416                 MINING AND MINERAL ENGINEERING   \n",
      "2       3        2415                      METALLURGICAL ENGINEERING   \n",
      "3       4        2417      NAVAL ARCHITECTURE AND MARINE ENGINEERING   \n",
      "4       5        2405                           CHEMICAL ENGINEERING   \n",
      "5       6        2418                            NUCLEAR ENGINEERING   \n",
      "6       7        6202                              ACTUARIAL SCIENCE   \n",
      "7       8        5001                     ASTRONOMY AND ASTROPHYSICS   \n",
      "8       9        2414                         MECHANICAL ENGINEERING   \n",
      "9      10        2408                         ELECTRICAL ENGINEERING   \n",
      "10     11        2407                           COMPUTER ENGINEERING   \n",
      "11     12        2401                          AEROSPACE ENGINEERING   \n",
      "12     13        2404                         BIOMEDICAL ENGINEERING   \n",
      "13     14        5008                              MATERIALS SCIENCE   \n",
      "14     15        2409      ENGINEERING MECHANICS PHYSICS AND SCIENCE   \n",
      "15     16        2402                         BIOLOGICAL ENGINEERING   \n",
      "16     17        2412       INDUSTRIAL AND MANUFACTURING ENGINEERING   \n",
      "17     18        2400                            GENERAL ENGINEERING   \n",
      "18     19        2403                      ARCHITECTURAL ENGINEERING   \n",
      "19     20        3201                                COURT REPORTING   \n",
      "20     21        2102                               COMPUTER SCIENCE   \n",
      "21     22        1104                                   FOOD SCIENCE   \n",
      "22     23        2502              ELECTRICAL ENGINEERING TECHNOLOGY   \n",
      "23     24        2413    MATERIALS ENGINEERING AND MATERIALS SCIENCE   \n",
      "24     25        6212  MANAGEMENT INFORMATION SYSTEMS AND STATISTICS   \n",
      "25     26        2406                              CIVIL ENGINEERING   \n",
      "26     27        5601                          CONSTRUCTION SERVICES   \n",
      "27     28        6204            OPERATIONS LOGISTICS AND E-COMMERCE   \n",
      "28     29        2499                      MISCELLANEOUS ENGINEERING   \n",
      "29     30        5402                                  PUBLIC POLICY   \n",
      "..    ...         ...                                            ...   \n",
      "143   144        1105                     PLANT SCIENCE AND AGRONOMY   \n",
      "144   145        2308         SCIENCE AND COMPUTER TEACHER EDUCATION   \n",
      "145   146        5200                                     PSYCHOLOGY   \n",
      "146   147        6002                                          MUSIC   \n",
      "147   148        2306         PHYSICAL AND HEALTH EDUCATION TEACHING   \n",
      "148   149        6006                      ART HISTORY AND CRITICISM   \n",
      "149   150        6000                                      FINE ARTS   \n",
      "150   151        2901                   FAMILY AND CONSUMER SCIENCES   \n",
      "151   152        5404                                    SOCIAL WORK   \n",
      "152   153        1103                                ANIMAL SCIENCES   \n",
      "153   154        6003                     VISUAL AND PERFORMING ARTS   \n",
      "154   155        2312             TEACHER EDUCATION: MULTIPLE LEVELS   \n",
      "155   156        5299                       MISCELLANEOUS PSYCHOLOGY   \n",
      "156   157        5403      HUMAN SERVICES AND COMMUNITY ORGANIZATION   \n",
      "157   158        3402                                     HUMANITIES   \n",
      "158   159        4901               THEOLOGY AND RELIGIOUS VOCATIONS   \n",
      "159   160        6007                                    STUDIO ARTS   \n",
      "160   161        2201         COSMETOLOGY SERVICES AND CULINARY ARTS   \n",
      "161   162        1199                      MISCELLANEOUS AGRICULTURE   \n",
      "162   163        5502                    ANTHROPOLOGY AND ARCHEOLOGY   \n",
      "163   164        6102  COMMUNICATION DISORDERS SCIENCES AND SERVICES   \n",
      "164   165        2307                      EARLY CHILDHOOD EDUCATION   \n",
      "165   166        2603                        OTHER FOREIGN LANGUAGES   \n",
      "166   167        6001                         DRAMA AND THEATER ARTS   \n",
      "167   168        3302                       COMPOSITION AND RHETORIC   \n",
      "168   169        3609                                        ZOOLOGY   \n",
      "169   170        5201                         EDUCATIONAL PSYCHOLOGY   \n",
      "170   171        5202                            CLINICAL PSYCHOLOGY   \n",
      "171   172        5203                          COUNSELING PSYCHOLOGY   \n",
      "172   173        3501                                LIBRARY SCIENCE   \n",
      "\n",
      "        Total      Men     Women                       Major_category  \\\n",
      "0      2339.0   2057.0     282.0                          Engineering   \n",
      "1       756.0    679.0      77.0                          Engineering   \n",
      "2       856.0    725.0     131.0                          Engineering   \n",
      "3      1258.0   1123.0     135.0                          Engineering   \n",
      "4     32260.0  21239.0   11021.0                          Engineering   \n",
      "5      2573.0   2200.0     373.0                          Engineering   \n",
      "6      3777.0   2110.0    1667.0                             Business   \n",
      "7      1792.0    832.0     960.0                    Physical Sciences   \n",
      "8     91227.0  80320.0   10907.0                          Engineering   \n",
      "9     81527.0  65511.0   16016.0                          Engineering   \n",
      "10    41542.0  33258.0    8284.0                          Engineering   \n",
      "11    15058.0  12953.0    2105.0                          Engineering   \n",
      "12    14955.0   8407.0    6548.0                          Engineering   \n",
      "13     4279.0   2949.0    1330.0                          Engineering   \n",
      "14     4321.0   3526.0     795.0                          Engineering   \n",
      "15     8925.0   6062.0    2863.0                          Engineering   \n",
      "16    18968.0  12453.0    6515.0                          Engineering   \n",
      "17    61152.0  45683.0   15469.0                          Engineering   \n",
      "18     2825.0   1835.0     990.0                          Engineering   \n",
      "19     1148.0    877.0     271.0                  Law & Public Policy   \n",
      "20   128319.0  99743.0   28576.0              Computers & Mathematics   \n",
      "21        NaN      NaN       NaN      Agriculture & Natural Resources   \n",
      "22    11565.0   8181.0    3384.0                          Engineering   \n",
      "23     2993.0   2020.0     973.0                          Engineering   \n",
      "24    18713.0  13496.0    5217.0                             Business   \n",
      "25    53153.0  41081.0   12072.0                          Engineering   \n",
      "26    18498.0  16820.0    1678.0  Industrial Arts & Consumer Services   \n",
      "27    11732.0   7921.0    3811.0                             Business   \n",
      "28     9133.0   7398.0    1735.0                          Engineering   \n",
      "29     5978.0   2639.0    3339.0                  Law & Public Policy   \n",
      "..        ...      ...       ...                                  ...   \n",
      "143    7416.0   4897.0    2519.0      Agriculture & Natural Resources   \n",
      "144    6483.0   2049.0    4434.0                            Education   \n",
      "145  393735.0  86648.0  307087.0             Psychology & Social Work   \n",
      "146   60633.0  29909.0   30724.0                                 Arts   \n",
      "147   28213.0  15670.0   12543.0                            Education   \n",
      "148   21030.0   3240.0   17790.0            Humanities & Liberal Arts   \n",
      "149   74440.0  24786.0   49654.0                                 Arts   \n",
      "150   58001.0   5166.0   52835.0  Industrial Arts & Consumer Services   \n",
      "151   53552.0   5137.0   48415.0             Psychology & Social Work   \n",
      "152   21573.0   5347.0   16226.0      Agriculture & Natural Resources   \n",
      "153   16250.0   4133.0   12117.0                                 Arts   \n",
      "154   14443.0   2734.0   11709.0                            Education   \n",
      "155    9628.0   1936.0    7692.0             Psychology & Social Work   \n",
      "156    9374.0    885.0    8489.0             Psychology & Social Work   \n",
      "157    6652.0   2013.0    4639.0            Humanities & Liberal Arts   \n",
      "158   30207.0  18616.0   11591.0            Humanities & Liberal Arts   \n",
      "159   16977.0   4754.0   12223.0                                 Arts   \n",
      "160   10510.0   4364.0    6146.0  Industrial Arts & Consumer Services   \n",
      "161    1488.0    404.0    1084.0      Agriculture & Natural Resources   \n",
      "162   38844.0  11376.0   27468.0            Humanities & Liberal Arts   \n",
      "163   38279.0   1225.0   37054.0                               Health   \n",
      "164   37589.0   1167.0   36422.0                            Education   \n",
      "165   11204.0   3472.0    7732.0            Humanities & Liberal Arts   \n",
      "166   43249.0  14440.0   28809.0                                 Arts   \n",
      "167   18953.0   7022.0   11931.0            Humanities & Liberal Arts   \n",
      "168    8409.0   3050.0    5359.0               Biology & Life Science   \n",
      "169    2854.0    522.0    2332.0             Psychology & Social Work   \n",
      "170    2838.0    568.0    2270.0             Psychology & Social Work   \n",
      "171    4626.0    931.0    3695.0             Psychology & Social Work   \n",
      "172    1098.0    134.0     964.0                            Education   \n",
      "\n",
      "     ShareWomen  Sample_size  Employed      ...        Part_time  \\\n",
      "0      0.120564           36      1976      ...              270   \n",
      "1      0.101852            7       640      ...              170   \n",
      "2      0.153037            3       648      ...              133   \n",
      "3      0.107313           16       758      ...              150   \n",
      "4      0.341631          289     25694      ...             5180   \n",
      "5      0.144967           17      1857      ...              264   \n",
      "6      0.441356           51      2912      ...              296   \n",
      "7      0.535714           10      1526      ...              553   \n",
      "8      0.119559         1029     76442      ...            13101   \n",
      "9      0.196450          631     61928      ...            12695   \n",
      "10     0.199413          399     32506      ...             5146   \n",
      "11     0.139793          147     11391      ...             2724   \n",
      "12     0.437847           79     10047      ...             2694   \n",
      "13     0.310820           22      3307      ...              878   \n",
      "14     0.183985           30      3608      ...              811   \n",
      "15     0.320784           55      6170      ...             1983   \n",
      "16     0.343473          183     15604      ...             2243   \n",
      "17     0.252960          425     44931      ...             7199   \n",
      "18     0.350442           26      2575      ...              343   \n",
      "19     0.236063           14       930      ...              223   \n",
      "20     0.222695         1196    102087      ...            18726   \n",
      "21          NaN           36      3149      ...             1121   \n",
      "22     0.292607           97      8587      ...             1873   \n",
      "23     0.325092           22      2449      ...             1040   \n",
      "24     0.278790          278     16413      ...             2420   \n",
      "25     0.227118          565     43041      ...            10080   \n",
      "26     0.090713          295     16318      ...             1751   \n",
      "27     0.324838          156     10027      ...             1183   \n",
      "28     0.189970          118      7428      ...             1662   \n",
      "29     0.558548           55      4547      ...             1306   \n",
      "..          ...          ...       ...      ...              ...   \n",
      "143    0.339671          110      6594      ...             1246   \n",
      "144    0.683943           59      5362      ...             1227   \n",
      "145    0.779933         2584    307933      ...           115172   \n",
      "146    0.506721          419     47662      ...            24943   \n",
      "147    0.444582          259     23794      ...             7230   \n",
      "148    0.845934          204     17579      ...             6140   \n",
      "149    0.667034          623     59679      ...            23656   \n",
      "150    0.910933          518     46624      ...            15872   \n",
      "151    0.904075          374     45038      ...            13481   \n",
      "152    0.752144          255     17112      ...             5353   \n",
      "153    0.745662          132     12870      ...             6253   \n",
      "154    0.810704          142     13076      ...             2214   \n",
      "155    0.798920           60      7653      ...             3221   \n",
      "156    0.905590           89      8294      ...             2405   \n",
      "157    0.697384           49      5052      ...             2225   \n",
      "158    0.383719          310     24202      ...             8767   \n",
      "159    0.719974          182     13908      ...             5673   \n",
      "160    0.584776          117      8650      ...             2064   \n",
      "161    0.728495           24      1290      ...              335   \n",
      "162    0.707136          247     29633      ...            14515   \n",
      "163    0.967998           95     29763      ...            13862   \n",
      "164    0.968954          342     32551      ...             7001   \n",
      "165    0.690111           56      7052      ...             3685   \n",
      "166    0.666119          357     36165      ...            15994   \n",
      "167    0.629505          151     15053      ...             6612   \n",
      "168    0.637293           47      6259      ...             2190   \n",
      "169    0.817099            7      2125      ...              572   \n",
      "170    0.799859           13      2101      ...              648   \n",
      "171    0.798746           21      3777      ...              965   \n",
      "172    0.877960            2       742      ...              237   \n",
      "\n",
      "     Full_time_year_round  Unemployed  Unemployment_rate  Median  P25th  \\\n",
      "0                    1207          37           0.018381  110000  95000   \n",
      "1                     388          85           0.117241   75000  55000   \n",
      "2                     340          16           0.024096   73000  50000   \n",
      "3                     692          40           0.050125   70000  43000   \n",
      "4                   16697        1672           0.061098   65000  50000   \n",
      "5                    1449         400           0.177226   65000  50000   \n",
      "6                    2482         308           0.095652   62000  53000   \n",
      "7                     827          33           0.021167   62000  31500   \n",
      "8                   54639        4650           0.057342   60000  48000   \n",
      "9                   41413        3895           0.059174   60000  45000   \n",
      "10                  23621        2275           0.065409   60000  45000   \n",
      "11                   8790         794           0.065162   60000  42000   \n",
      "12                   5986        1019           0.092084   60000  36000   \n",
      "13                   1967          78           0.023043   60000  39000   \n",
      "14                   2004          23           0.006334   58000  25000   \n",
      "15                   3413         589           0.087143   57100  40000   \n",
      "16                  11326         699           0.042876   57000  37900   \n",
      "17                  33540        2859           0.059824   56000  36000   \n",
      "18                   1848         170           0.061931   54000  38000   \n",
      "19                    808          11           0.011690   54000  50000   \n",
      "20                  70932        6884           0.063173   53000  39000   \n",
      "21                   1735         338           0.096931   53000  32000   \n",
      "22                   5681         824           0.087557   52000  35000   \n",
      "23                   1151          70           0.027789   52000  35000   \n",
      "24                  13017        1015           0.058240   51000  38000   \n",
      "25                  29196        3270           0.070610   50000  40000   \n",
      "26                  12313        1042           0.060023   50000  36000   \n",
      "27                   7724         504           0.047859   50000  40000   \n",
      "28                   5476         597           0.074393   50000  39000   \n",
      "29                   2776         670           0.128426   50000  35000   \n",
      "..                    ...         ...                ...     ...    ...   \n",
      "143                  4522         314           0.045455   32000  22900   \n",
      "144                  3247         266           0.047264   32000  28000   \n",
      "145                174438       28169           0.083811   31500  24000   \n",
      "146                 21425        3918           0.075960   31000  22300   \n",
      "147                 13651        1920           0.074667   31000  24000   \n",
      "148                  9965        1128           0.060298   31000  23000   \n",
      "149                 31877        5486           0.084186   30500  21000   \n",
      "150                 26906        3355           0.067128   30000  22900   \n",
      "151                 27588        3329           0.068828   30000  25000   \n",
      "152                 10824         917           0.050862   30000  22000   \n",
      "153                  6322        1465           0.102197   30000  22000   \n",
      "154                  8457         496           0.036546   30000  24000   \n",
      "155                  3838         419           0.051908   30000  20800   \n",
      "156                  5061         326           0.037819   30000  24000   \n",
      "157                  2661         372           0.068584   30000  20000   \n",
      "158                 13944        1617           0.062628   29000  22000   \n",
      "159                  7413        1368           0.089552   29000  19200   \n",
      "160                  5949         510           0.055677   29000  20000   \n",
      "161                   936          82           0.059767   29000  23000   \n",
      "162                 13232        3395           0.102792   28000  20000   \n",
      "163                 14460        1487           0.047584   28000  20000   \n",
      "164                 20748        1360           0.040105   28000  21000   \n",
      "165                  3214         846           0.107116   27500  22900   \n",
      "166                 16891        3040           0.077541   27000  19200   \n",
      "167                  7832        1340           0.081742   27000  20000   \n",
      "168                  3602         304           0.046320   26000  20000   \n",
      "169                  1211         148           0.065112   25000  24000   \n",
      "170                  1293         368           0.149048   25000  25000   \n",
      "171                  2738         214           0.053621   23400  19200   \n",
      "172                   410          87           0.104946   22000  20000   \n",
      "\n",
      "      P75th  College_jobs  Non_college_jobs  Low_wage_jobs  \n",
      "0    125000          1534               364            193  \n",
      "1     90000           350               257             50  \n",
      "2    105000           456               176              0  \n",
      "3     80000           529               102              0  \n",
      "4     75000         18314              4440            972  \n",
      "5    102000          1142               657            244  \n",
      "6     72000          1768               314            259  \n",
      "7    109000           972               500            220  \n",
      "8     70000         52844             16384           3253  \n",
      "9     72000         45829             10874           3170  \n",
      "10    75000         23694              5721            980  \n",
      "11    70000          8184              2425            372  \n",
      "12    70000          6439              2471            789  \n",
      "13    65000          2626               391             81  \n",
      "14    74000          2439               947            263  \n",
      "15    76000          3603              1595            524  \n",
      "16    67000          8306              3235            640  \n",
      "17    69000         26898             11734           3192  \n",
      "18    65000          1665               649            137  \n",
      "19    54000           402               528            144  \n",
      "20    70000         68622             25667           5144  \n",
      "21    70000          1183              1274            485  \n",
      "22    60000          5126              2686            696  \n",
      "23    62000          1911               305             70  \n",
      "24    60000          6342              5741            708  \n",
      "25    60000         28526              9356           2899  \n",
      "26    60000          3275              5351            703  \n",
      "27    60000          1466              3629            285  \n",
      "28    65000          3445              2426            365  \n",
      "29    70000          1550              1871            340  \n",
      "..      ...           ...               ...            ...  \n",
      "143   40000          2089              3545           1231  \n",
      "144   39000          4214              1106            591  \n",
      "145   41000        125148            141860          48207  \n",
      "146   42000         13752             28786           9286  \n",
      "147   40000         12777              9328           2042  \n",
      "148   40000          5139              9738           3426  \n",
      "149   41000         20792             32725          11880  \n",
      "150   40000         20985             20133           5248  \n",
      "151   35000         27449             14416           4344  \n",
      "152   40000          5443              9571           2125  \n",
      "153   40000          3849              7635           2840  \n",
      "154   37000         10766              1949            722  \n",
      "155   40000          2960              3948           1650  \n",
      "156   35000          2878              4595            724  \n",
      "157   49000          1168              3354           1141  \n",
      "158   38000          9927             12037           3304  \n",
      "159   38300          3948              8707           3586  \n",
      "160   36000           563              7384           3163  \n",
      "161   42100           483               626             31  \n",
      "162   38000          9805             16693           6866  \n",
      "163   40000         19957              9404           5125  \n",
      "164   35000         23515              7705           2868  \n",
      "165   38000          2326              3703           1115  \n",
      "166   35000          6994             25313          11068  \n",
      "167   35000          4855              8100           3466  \n",
      "168   39000          2771              2947            743  \n",
      "169   34000          1488               615             82  \n",
      "170   40000           986               870            622  \n",
      "171   26000          2403              1245            308  \n",
      "172   22000           288               338            192  \n",
      "\n",
      "[173 rows x 21 columns]\n"
     ]
    }
   ],
   "source": [
    "print(raw_data_count)"
   ]
  },
  {
   "cell_type": "code",
   "execution_count": 9,
   "metadata": {},
   "outputs": [
    {
     "name": "stdout",
     "output_type": "stream",
     "text": [
      "     Rank  Major_code                                          Major  \\\n",
      "0       1        2419                          PETROLEUM ENGINEERING   \n",
      "1       2        2416                 MINING AND MINERAL ENGINEERING   \n",
      "2       3        2415                      METALLURGICAL ENGINEERING   \n",
      "3       4        2417      NAVAL ARCHITECTURE AND MARINE ENGINEERING   \n",
      "4       5        2405                           CHEMICAL ENGINEERING   \n",
      "5       6        2418                            NUCLEAR ENGINEERING   \n",
      "6       7        6202                              ACTUARIAL SCIENCE   \n",
      "7       8        5001                     ASTRONOMY AND ASTROPHYSICS   \n",
      "8       9        2414                         MECHANICAL ENGINEERING   \n",
      "9      10        2408                         ELECTRICAL ENGINEERING   \n",
      "10     11        2407                           COMPUTER ENGINEERING   \n",
      "11     12        2401                          AEROSPACE ENGINEERING   \n",
      "12     13        2404                         BIOMEDICAL ENGINEERING   \n",
      "13     14        5008                              MATERIALS SCIENCE   \n",
      "14     15        2409      ENGINEERING MECHANICS PHYSICS AND SCIENCE   \n",
      "15     16        2402                         BIOLOGICAL ENGINEERING   \n",
      "16     17        2412       INDUSTRIAL AND MANUFACTURING ENGINEERING   \n",
      "17     18        2400                            GENERAL ENGINEERING   \n",
      "18     19        2403                      ARCHITECTURAL ENGINEERING   \n",
      "19     20        3201                                COURT REPORTING   \n",
      "20     21        2102                               COMPUTER SCIENCE   \n",
      "22     23        2502              ELECTRICAL ENGINEERING TECHNOLOGY   \n",
      "23     24        2413    MATERIALS ENGINEERING AND MATERIALS SCIENCE   \n",
      "24     25        6212  MANAGEMENT INFORMATION SYSTEMS AND STATISTICS   \n",
      "25     26        2406                              CIVIL ENGINEERING   \n",
      "26     27        5601                          CONSTRUCTION SERVICES   \n",
      "27     28        6204            OPERATIONS LOGISTICS AND E-COMMERCE   \n",
      "28     29        2499                      MISCELLANEOUS ENGINEERING   \n",
      "29     30        5402                                  PUBLIC POLICY   \n",
      "30     31        2410                      ENVIRONMENTAL ENGINEERING   \n",
      "..    ...         ...                                            ...   \n",
      "143   144        1105                     PLANT SCIENCE AND AGRONOMY   \n",
      "144   145        2308         SCIENCE AND COMPUTER TEACHER EDUCATION   \n",
      "145   146        5200                                     PSYCHOLOGY   \n",
      "146   147        6002                                          MUSIC   \n",
      "147   148        2306         PHYSICAL AND HEALTH EDUCATION TEACHING   \n",
      "148   149        6006                      ART HISTORY AND CRITICISM   \n",
      "149   150        6000                                      FINE ARTS   \n",
      "150   151        2901                   FAMILY AND CONSUMER SCIENCES   \n",
      "151   152        5404                                    SOCIAL WORK   \n",
      "152   153        1103                                ANIMAL SCIENCES   \n",
      "153   154        6003                     VISUAL AND PERFORMING ARTS   \n",
      "154   155        2312             TEACHER EDUCATION: MULTIPLE LEVELS   \n",
      "155   156        5299                       MISCELLANEOUS PSYCHOLOGY   \n",
      "156   157        5403      HUMAN SERVICES AND COMMUNITY ORGANIZATION   \n",
      "157   158        3402                                     HUMANITIES   \n",
      "158   159        4901               THEOLOGY AND RELIGIOUS VOCATIONS   \n",
      "159   160        6007                                    STUDIO ARTS   \n",
      "160   161        2201         COSMETOLOGY SERVICES AND CULINARY ARTS   \n",
      "161   162        1199                      MISCELLANEOUS AGRICULTURE   \n",
      "162   163        5502                    ANTHROPOLOGY AND ARCHEOLOGY   \n",
      "163   164        6102  COMMUNICATION DISORDERS SCIENCES AND SERVICES   \n",
      "164   165        2307                      EARLY CHILDHOOD EDUCATION   \n",
      "165   166        2603                        OTHER FOREIGN LANGUAGES   \n",
      "166   167        6001                         DRAMA AND THEATER ARTS   \n",
      "167   168        3302                       COMPOSITION AND RHETORIC   \n",
      "168   169        3609                                        ZOOLOGY   \n",
      "169   170        5201                         EDUCATIONAL PSYCHOLOGY   \n",
      "170   171        5202                            CLINICAL PSYCHOLOGY   \n",
      "171   172        5203                          COUNSELING PSYCHOLOGY   \n",
      "172   173        3501                                LIBRARY SCIENCE   \n",
      "\n",
      "        Total      Men     Women                       Major_category  \\\n",
      "0      2339.0   2057.0     282.0                          Engineering   \n",
      "1       756.0    679.0      77.0                          Engineering   \n",
      "2       856.0    725.0     131.0                          Engineering   \n",
      "3      1258.0   1123.0     135.0                          Engineering   \n",
      "4     32260.0  21239.0   11021.0                          Engineering   \n",
      "5      2573.0   2200.0     373.0                          Engineering   \n",
      "6      3777.0   2110.0    1667.0                             Business   \n",
      "7      1792.0    832.0     960.0                    Physical Sciences   \n",
      "8     91227.0  80320.0   10907.0                          Engineering   \n",
      "9     81527.0  65511.0   16016.0                          Engineering   \n",
      "10    41542.0  33258.0    8284.0                          Engineering   \n",
      "11    15058.0  12953.0    2105.0                          Engineering   \n",
      "12    14955.0   8407.0    6548.0                          Engineering   \n",
      "13     4279.0   2949.0    1330.0                          Engineering   \n",
      "14     4321.0   3526.0     795.0                          Engineering   \n",
      "15     8925.0   6062.0    2863.0                          Engineering   \n",
      "16    18968.0  12453.0    6515.0                          Engineering   \n",
      "17    61152.0  45683.0   15469.0                          Engineering   \n",
      "18     2825.0   1835.0     990.0                          Engineering   \n",
      "19     1148.0    877.0     271.0                  Law & Public Policy   \n",
      "20   128319.0  99743.0   28576.0              Computers & Mathematics   \n",
      "22    11565.0   8181.0    3384.0                          Engineering   \n",
      "23     2993.0   2020.0     973.0                          Engineering   \n",
      "24    18713.0  13496.0    5217.0                             Business   \n",
      "25    53153.0  41081.0   12072.0                          Engineering   \n",
      "26    18498.0  16820.0    1678.0  Industrial Arts & Consumer Services   \n",
      "27    11732.0   7921.0    3811.0                             Business   \n",
      "28     9133.0   7398.0    1735.0                          Engineering   \n",
      "29     5978.0   2639.0    3339.0                  Law & Public Policy   \n",
      "30     4047.0   2662.0    1385.0                          Engineering   \n",
      "..        ...      ...       ...                                  ...   \n",
      "143    7416.0   4897.0    2519.0      Agriculture & Natural Resources   \n",
      "144    6483.0   2049.0    4434.0                            Education   \n",
      "145  393735.0  86648.0  307087.0             Psychology & Social Work   \n",
      "146   60633.0  29909.0   30724.0                                 Arts   \n",
      "147   28213.0  15670.0   12543.0                            Education   \n",
      "148   21030.0   3240.0   17790.0            Humanities & Liberal Arts   \n",
      "149   74440.0  24786.0   49654.0                                 Arts   \n",
      "150   58001.0   5166.0   52835.0  Industrial Arts & Consumer Services   \n",
      "151   53552.0   5137.0   48415.0             Psychology & Social Work   \n",
      "152   21573.0   5347.0   16226.0      Agriculture & Natural Resources   \n",
      "153   16250.0   4133.0   12117.0                                 Arts   \n",
      "154   14443.0   2734.0   11709.0                            Education   \n",
      "155    9628.0   1936.0    7692.0             Psychology & Social Work   \n",
      "156    9374.0    885.0    8489.0             Psychology & Social Work   \n",
      "157    6652.0   2013.0    4639.0            Humanities & Liberal Arts   \n",
      "158   30207.0  18616.0   11591.0            Humanities & Liberal Arts   \n",
      "159   16977.0   4754.0   12223.0                                 Arts   \n",
      "160   10510.0   4364.0    6146.0  Industrial Arts & Consumer Services   \n",
      "161    1488.0    404.0    1084.0      Agriculture & Natural Resources   \n",
      "162   38844.0  11376.0   27468.0            Humanities & Liberal Arts   \n",
      "163   38279.0   1225.0   37054.0                               Health   \n",
      "164   37589.0   1167.0   36422.0                            Education   \n",
      "165   11204.0   3472.0    7732.0            Humanities & Liberal Arts   \n",
      "166   43249.0  14440.0   28809.0                                 Arts   \n",
      "167   18953.0   7022.0   11931.0            Humanities & Liberal Arts   \n",
      "168    8409.0   3050.0    5359.0               Biology & Life Science   \n",
      "169    2854.0    522.0    2332.0             Psychology & Social Work   \n",
      "170    2838.0    568.0    2270.0             Psychology & Social Work   \n",
      "171    4626.0    931.0    3695.0             Psychology & Social Work   \n",
      "172    1098.0    134.0     964.0                            Education   \n",
      "\n",
      "     ShareWomen  Sample_size  Employed      ...        Part_time  \\\n",
      "0      0.120564           36      1976      ...              270   \n",
      "1      0.101852            7       640      ...              170   \n",
      "2      0.153037            3       648      ...              133   \n",
      "3      0.107313           16       758      ...              150   \n",
      "4      0.341631          289     25694      ...             5180   \n",
      "5      0.144967           17      1857      ...              264   \n",
      "6      0.441356           51      2912      ...              296   \n",
      "7      0.535714           10      1526      ...              553   \n",
      "8      0.119559         1029     76442      ...            13101   \n",
      "9      0.196450          631     61928      ...            12695   \n",
      "10     0.199413          399     32506      ...             5146   \n",
      "11     0.139793          147     11391      ...             2724   \n",
      "12     0.437847           79     10047      ...             2694   \n",
      "13     0.310820           22      3307      ...              878   \n",
      "14     0.183985           30      3608      ...              811   \n",
      "15     0.320784           55      6170      ...             1983   \n",
      "16     0.343473          183     15604      ...             2243   \n",
      "17     0.252960          425     44931      ...             7199   \n",
      "18     0.350442           26      2575      ...              343   \n",
      "19     0.236063           14       930      ...              223   \n",
      "20     0.222695         1196    102087      ...            18726   \n",
      "22     0.292607           97      8587      ...             1873   \n",
      "23     0.325092           22      2449      ...             1040   \n",
      "24     0.278790          278     16413      ...             2420   \n",
      "25     0.227118          565     43041      ...            10080   \n",
      "26     0.090713          295     16318      ...             1751   \n",
      "27     0.324838          156     10027      ...             1183   \n",
      "28     0.189970          118      7428      ...             1662   \n",
      "29     0.558548           55      4547      ...             1306   \n",
      "30     0.342229           26      2983      ...              930   \n",
      "..          ...          ...       ...      ...              ...   \n",
      "143    0.339671          110      6594      ...             1246   \n",
      "144    0.683943           59      5362      ...             1227   \n",
      "145    0.779933         2584    307933      ...           115172   \n",
      "146    0.506721          419     47662      ...            24943   \n",
      "147    0.444582          259     23794      ...             7230   \n",
      "148    0.845934          204     17579      ...             6140   \n",
      "149    0.667034          623     59679      ...            23656   \n",
      "150    0.910933          518     46624      ...            15872   \n",
      "151    0.904075          374     45038      ...            13481   \n",
      "152    0.752144          255     17112      ...             5353   \n",
      "153    0.745662          132     12870      ...             6253   \n",
      "154    0.810704          142     13076      ...             2214   \n",
      "155    0.798920           60      7653      ...             3221   \n",
      "156    0.905590           89      8294      ...             2405   \n",
      "157    0.697384           49      5052      ...             2225   \n",
      "158    0.383719          310     24202      ...             8767   \n",
      "159    0.719974          182     13908      ...             5673   \n",
      "160    0.584776          117      8650      ...             2064   \n",
      "161    0.728495           24      1290      ...              335   \n",
      "162    0.707136          247     29633      ...            14515   \n",
      "163    0.967998           95     29763      ...            13862   \n",
      "164    0.968954          342     32551      ...             7001   \n",
      "165    0.690111           56      7052      ...             3685   \n",
      "166    0.666119          357     36165      ...            15994   \n",
      "167    0.629505          151     15053      ...             6612   \n",
      "168    0.637293           47      6259      ...             2190   \n",
      "169    0.817099            7      2125      ...              572   \n",
      "170    0.799859           13      2101      ...              648   \n",
      "171    0.798746           21      3777      ...              965   \n",
      "172    0.877960            2       742      ...              237   \n",
      "\n",
      "     Full_time_year_round  Unemployed  Unemployment_rate  Median  P25th  \\\n",
      "0                    1207          37           0.018381  110000  95000   \n",
      "1                     388          85           0.117241   75000  55000   \n",
      "2                     340          16           0.024096   73000  50000   \n",
      "3                     692          40           0.050125   70000  43000   \n",
      "4                   16697        1672           0.061098   65000  50000   \n",
      "5                    1449         400           0.177226   65000  50000   \n",
      "6                    2482         308           0.095652   62000  53000   \n",
      "7                     827          33           0.021167   62000  31500   \n",
      "8                   54639        4650           0.057342   60000  48000   \n",
      "9                   41413        3895           0.059174   60000  45000   \n",
      "10                  23621        2275           0.065409   60000  45000   \n",
      "11                   8790         794           0.065162   60000  42000   \n",
      "12                   5986        1019           0.092084   60000  36000   \n",
      "13                   1967          78           0.023043   60000  39000   \n",
      "14                   2004          23           0.006334   58000  25000   \n",
      "15                   3413         589           0.087143   57100  40000   \n",
      "16                  11326         699           0.042876   57000  37900   \n",
      "17                  33540        2859           0.059824   56000  36000   \n",
      "18                   1848         170           0.061931   54000  38000   \n",
      "19                    808          11           0.011690   54000  50000   \n",
      "20                  70932        6884           0.063173   53000  39000   \n",
      "22                   5681         824           0.087557   52000  35000   \n",
      "23                   1151          70           0.027789   52000  35000   \n",
      "24                  13017        1015           0.058240   51000  38000   \n",
      "25                  29196        3270           0.070610   50000  40000   \n",
      "26                  12313        1042           0.060023   50000  36000   \n",
      "27                   7724         504           0.047859   50000  40000   \n",
      "28                   5476         597           0.074393   50000  39000   \n",
      "29                   2776         670           0.128426   50000  35000   \n",
      "30                   1951         308           0.093589   50000  42000   \n",
      "..                    ...         ...                ...     ...    ...   \n",
      "143                  4522         314           0.045455   32000  22900   \n",
      "144                  3247         266           0.047264   32000  28000   \n",
      "145                174438       28169           0.083811   31500  24000   \n",
      "146                 21425        3918           0.075960   31000  22300   \n",
      "147                 13651        1920           0.074667   31000  24000   \n",
      "148                  9965        1128           0.060298   31000  23000   \n",
      "149                 31877        5486           0.084186   30500  21000   \n",
      "150                 26906        3355           0.067128   30000  22900   \n",
      "151                 27588        3329           0.068828   30000  25000   \n",
      "152                 10824         917           0.050862   30000  22000   \n",
      "153                  6322        1465           0.102197   30000  22000   \n",
      "154                  8457         496           0.036546   30000  24000   \n",
      "155                  3838         419           0.051908   30000  20800   \n",
      "156                  5061         326           0.037819   30000  24000   \n",
      "157                  2661         372           0.068584   30000  20000   \n",
      "158                 13944        1617           0.062628   29000  22000   \n",
      "159                  7413        1368           0.089552   29000  19200   \n",
      "160                  5949         510           0.055677   29000  20000   \n",
      "161                   936          82           0.059767   29000  23000   \n",
      "162                 13232        3395           0.102792   28000  20000   \n",
      "163                 14460        1487           0.047584   28000  20000   \n",
      "164                 20748        1360           0.040105   28000  21000   \n",
      "165                  3214         846           0.107116   27500  22900   \n",
      "166                 16891        3040           0.077541   27000  19200   \n",
      "167                  7832        1340           0.081742   27000  20000   \n",
      "168                  3602         304           0.046320   26000  20000   \n",
      "169                  1211         148           0.065112   25000  24000   \n",
      "170                  1293         368           0.149048   25000  25000   \n",
      "171                  2738         214           0.053621   23400  19200   \n",
      "172                   410          87           0.104946   22000  20000   \n",
      "\n",
      "      P75th  College_jobs  Non_college_jobs  Low_wage_jobs  \n",
      "0    125000          1534               364            193  \n",
      "1     90000           350               257             50  \n",
      "2    105000           456               176              0  \n",
      "3     80000           529               102              0  \n",
      "4     75000         18314              4440            972  \n",
      "5    102000          1142               657            244  \n",
      "6     72000          1768               314            259  \n",
      "7    109000           972               500            220  \n",
      "8     70000         52844             16384           3253  \n",
      "9     72000         45829             10874           3170  \n",
      "10    75000         23694              5721            980  \n",
      "11    70000          8184              2425            372  \n",
      "12    70000          6439              2471            789  \n",
      "13    65000          2626               391             81  \n",
      "14    74000          2439               947            263  \n",
      "15    76000          3603              1595            524  \n",
      "16    67000          8306              3235            640  \n",
      "17    69000         26898             11734           3192  \n",
      "18    65000          1665               649            137  \n",
      "19    54000           402               528            144  \n",
      "20    70000         68622             25667           5144  \n",
      "22    60000          5126              2686            696  \n",
      "23    62000          1911               305             70  \n",
      "24    60000          6342              5741            708  \n",
      "25    60000         28526              9356           2899  \n",
      "26    60000          3275              5351            703  \n",
      "27    60000          1466              3629            285  \n",
      "28    65000          3445              2426            365  \n",
      "29    70000          1550              1871            340  \n",
      "30    56000          2028               830            260  \n",
      "..      ...           ...               ...            ...  \n",
      "143   40000          2089              3545           1231  \n",
      "144   39000          4214              1106            591  \n",
      "145   41000        125148            141860          48207  \n",
      "146   42000         13752             28786           9286  \n",
      "147   40000         12777              9328           2042  \n",
      "148   40000          5139              9738           3426  \n",
      "149   41000         20792             32725          11880  \n",
      "150   40000         20985             20133           5248  \n",
      "151   35000         27449             14416           4344  \n",
      "152   40000          5443              9571           2125  \n",
      "153   40000          3849              7635           2840  \n",
      "154   37000         10766              1949            722  \n",
      "155   40000          2960              3948           1650  \n",
      "156   35000          2878              4595            724  \n",
      "157   49000          1168              3354           1141  \n",
      "158   38000          9927             12037           3304  \n",
      "159   38300          3948              8707           3586  \n",
      "160   36000           563              7384           3163  \n",
      "161   42100           483               626             31  \n",
      "162   38000          9805             16693           6866  \n",
      "163   40000         19957              9404           5125  \n",
      "164   35000         23515              7705           2868  \n",
      "165   38000          2326              3703           1115  \n",
      "166   35000          6994             25313          11068  \n",
      "167   35000          4855              8100           3466  \n",
      "168   39000          2771              2947            743  \n",
      "169   34000          1488               615             82  \n",
      "170   40000           986               870            622  \n",
      "171   26000          2403              1245            308  \n",
      "172   22000           288               338            192  \n",
      "\n",
      "[172 rows x 21 columns]\n"
     ]
    }
   ],
   "source": [
    "print(cleaned_data_count)"
   ]
  },
  {
   "cell_type": "code",
   "execution_count": 12,
   "metadata": {},
   "outputs": [
    {
     "data": {
      "text/plain": [
       "<matplotlib.axes._subplots.AxesSubplot at 0x1e48e7c4ef0>"
      ]
     },
     "execution_count": 12,
     "metadata": {},
     "output_type": "execute_result"
    },
    {
     "data": {
      "image/png": "[encoded data removed]",
      "text/plain": [
       "<Figure size 360x720 with 1 Axes>"
      ]
     },
     "metadata": {},
     "output_type": "display_data"
    }
   ],
   "source": [
    "recent_grads.plot(x='Median', y='Sample_size', kind='scatter', title='Median vs Sample size', figsize=(5,10))"
   ]
  },
  {
   "cell_type": "code",
   "execution_count": 13,
   "metadata": {},
   "outputs": [
    {
     "data": {
      "text/plain": [
       "<matplotlib.axes._subplots.AxesSubplot at 0x1e48e960c18>"
      ]
     },
     "execution_count": 13,
     "metadata": {},
     "output_type": "execute_result"
    },
    {
     "data": {
      "image/png": "[encoded data removed]",
      "text/plain": [
       "<Figure size 360x720 with 1 Axes>"
      ]
     },
     "metadata": {},
     "output_type": "display_data"
    }
   ],
   "source": [
    "recent_grads.plot(x='Unemployment_rate', y='Sample_size', kind='scatter', title='Unemployment rate vs Sample size', figsize=(5,10))"
   ]
  },
  {
   "cell_type": "code",
   "execution_count": 14,
   "metadata": {},
   "outputs": [
    {
     "data": {
      "text/plain": [
       "<matplotlib.axes._subplots.AxesSubplot at 0x1e48e9c6d68>"
      ]
     },
     "execution_count": 14,
     "metadata": {},
     "output_type": "execute_result"
    },
    {
     "data": {
      "image/png": "[encoded data removed]",
      "text/plain": [
       "<Figure size 360x720 with 1 Axes>"
      ]
     },
     "metadata": {},
     "output_type": "display_data"
    }
   ],
   "source": [
    "recent_grads.plot(x='Median', y='Full_time', kind='scatter', title='Median vs Full time', figsize=(5,10))"
   ]
  },
  {
   "cell_type": "code",
   "execution_count": 15,
   "metadata": {},
   "outputs": [
    {
     "data": {
      "text/plain": [
       "<matplotlib.axes._subplots.AxesSubplot at 0x1e48fb06710>"
      ]
     },
     "execution_count": 15,
     "metadata": {},
     "output_type": "execute_result"
    },
    {
     "data": {
      "image/png": "[encoded data removed]",
      "text/plain": [
       "<Figure size 360x720 with 1 Axes>"
      ]
     },
     "metadata": {},
     "output_type": "display_data"
    }
   ],
   "source": [
    "recent_grads.plot(x='Unemployment_rate', y='ShareWomen', kind='scatter', title='Unemployment rate vs Share women', figsize=(5,10))"
   ]
  },
  {
   "cell_type": "code",
   "execution_count": 16,
   "metadata": {},
   "outputs": [
    {
     "data": {
      "text/plain": [
       "<matplotlib.axes._subplots.AxesSubplot at 0x1e48e9a5cc0>"
      ]
     },
     "execution_count": 16,
     "metadata": {},
     "output_type": "execute_result"
    },
    {
     "data": {
      "image/png": "[encoded data removed]",
      "text/plain": [
       "<Figure size 360x720 with 1 Axes>"
      ]
     },
     "metadata": {},
     "output_type": "display_data"
    }
   ],
   "source": [
    "recent_grads.plot(x='Median', y='Men', kind='scatter', title='Median vs Men', figsize=(5,10))"
   ]
  },
  {
   "cell_type": "code",
   "execution_count": 17,
   "metadata": {},
   "outputs": [
    {
     "data": {
      "text/plain": [
       "<matplotlib.axes._subplots.AxesSubplot at 0x1e48fb94828>"
      ]
     },
     "execution_count": 17,
     "metadata": {},
     "output_type": "execute_result"
    },
    {
     "data": {
      "image/png": "[encoded data removed]",
      "text/plain": [
       "<Figure size 360x720 with 1 Axes>"
      ]
     },
     "metadata": {},
     "output_type": "display_data"
    }
   ],
   "source": [
    "recent_grads.plot(x='Median', y='Women', kind='scatter', title='Median vs Women', figsize=(5,10))"
   ]
  },
  {
   "cell_type": "code",
   "execution_count": 34,
   "metadata": {},
   "outputs": [
    {
     "data": {
      "text/plain": [
       "<matplotlib.axes._subplots.AxesSubplot at 0x1e4912a92b0>"
      ]
     },
     "execution_count": 34,
     "metadata": {},
     "output_type": "execute_result"
    },
    {
     "data": {
      "image/png": "[encoded data removed]",
      "text/plain": [
       "<Figure size 432x288 with 1 Axes>"
      ]
     },
     "metadata": {},
     "output_type": "display_data"
    }
   ],
   "source": [
    "recent_grads['Sample_size'].hist(bins=25, range=(0,5000))"
   ]
  },
  {
   "cell_type": "code",
   "execution_count": 42,
   "metadata": {},
   "outputs": [
    {
     "data": {
      "text/plain": [
       "<matplotlib.axes._subplots.AxesSubplot at 0x1e491855710>"
      ]
     },
     "execution_count": 42,
     "metadata": {},
     "output_type": "execute_result"
    },
    {
     "data": {
      "image/png": "[encoded data removed]",
      "text/plain": [
       "<Figure size 432x288 with 1 Axes>"
      ]
     },
     "metadata": {},
     "output_type": "display_data"
    }
   ],
   "source": [
    "recent_grads['Median'].hist(bins=25)"
   ]
  },
  {
   "cell_type": "code",
   "execution_count": 46,
   "metadata": {},
   "outputs": [
    {
     "data": {
      "text/plain": [
       "<matplotlib.axes._subplots.AxesSubplot at 0x1e491c237f0>"
      ]
     },
     "execution_count": 46,
     "metadata": {},
     "output_type": "execute_result"
    },
    {
     "data": {
      "image/png": "[encoded data removed]",
      "text/plain": [
       "<Figure size 432x288 with 1 Axes>"
      ]
     },
     "metadata": {},
     "output_type": "display_data"
    }
   ],
   "source": [
    "recent_grads['Employed'].hist(bins=30)"
   ]
  },
  {
   "cell_type": "code",
   "execution_count": 50,
   "metadata": {},
   "outputs": [
    {
     "data": {
      "text/plain": [
       "<matplotlib.axes._subplots.AxesSubplot at 0x1e491e657b8>"
      ]
     },
     "execution_count": 50,
     "metadata": {},
     "output_type": "execute_result"
    },
    {
     "data": {
      "image/png": "[encoded data removed]",
      "text/plain": [
       "<Figure size 432x288 with 1 Axes>"
      ]
     },
     "metadata": {},
     "output_type": "display_data"
    }
   ],
   "source": [
    "recent_grads['Full_time'].hist(bins=40)"
   ]
  },
  {
   "cell_type": "code",
   "execution_count": 51,
   "metadata": {},
   "outputs": [
    {
     "data": {
      "text/plain": [
       "<matplotlib.axes._subplots.AxesSubplot at 0x1e491ec8e10>"
      ]
     },
     "execution_count": 51,
     "metadata": {},
     "output_type": "execute_result"
    },
    {
     "data": {
      "image/png": "[encoded data removed]",
      "text/plain": [
       "<Figure size 432x288 with 1 Axes>"
      ]
     },
     "metadata": {},
     "output_type": "display_data"
    }
   ],
   "source": [
    "recent_grads['ShareWomen'].hist(bins=40)"
   ]
  },
  {
   "cell_type": "code",
   "execution_count": 52,
   "metadata": {},
   "outputs": [
    {
     "data": {
      "text/plain": [
       "<matplotlib.axes._subplots.AxesSubplot at 0x1e491f9bf60>"
      ]
     },
     "execution_count": 52,
     "metadata": {},
     "output_type": "execute_result"
    },
    {
     "data": {
      "image/png": "[encoded data removed]",
      "text/plain": [
       "<Figure size 432x288 with 1 Axes>"
      ]
     },
     "metadata": {},
     "output_type": "display_data"
    }
   ],
   "source": [
    "recent_grads['Unemployment_rate'].hist(bins=15)"
   ]
  },
  {
   "cell_type": "code",
   "execution_count": 54,
   "metadata": {},
   "outputs": [
    {
     "data": {
      "text/plain": [
       "<matplotlib.axes._subplots.AxesSubplot at 0x1e493052ef0>"
      ]
     },
     "execution_count": 54,
     "metadata": {},
     "output_type": "execute_result"
    },
    {
     "data": {
      "image/png": "[encoded data removed]",
      "text/plain": [
       "<Figure size 432x288 with 1 Axes>"
      ]
     },
     "metadata": {},
     "output_type": "display_data"
    }
   ],
   "source": [
    "recent_grads['Men'].hist(bins=25)"
   ]
  },
  {
   "cell_type": "code",
   "execution_count": 55,
   "metadata": {},
   "outputs": [
    {
     "data": {
      "text/plain": [
       "<matplotlib.axes._subplots.AxesSubplot at 0x1e4930c5320>"
      ]
     },
     "execution_count": 55,
     "metadata": {},
     "output_type": "execute_result"
    },
    {
     "data": {
      "image/png": "[encoded data removed]",
      "text/plain": [
       "<Figure size 432x288 with 1 Axes>"
      ]
     },
     "metadata": {},
     "output_type": "display_data"
    }
   ],
   "source": [
    "recent_grads['Women'].hist(bins=30)"
   ]
  },
  {
   "cell_type": "code",
   "execution_count": 59,
   "metadata": {},
   "outputs": [],
   "source": [
    "from pandas.plotting import scatter_matrix "
   ]
  },
  {
   "cell_type": "code",
   "execution_count": 62,
   "metadata": {},
   "outputs": [
    {
     "data": {
      "text/plain": [
       "array([[<matplotlib.axes._subplots.AxesSubplot object at 0x000001E4934FDFD0>,\n",
       "        <matplotlib.axes._subplots.AxesSubplot object at 0x000001E49352F390>],\n",
       "       [<matplotlib.axes._subplots.AxesSubplot object at 0x000001E4935505C0>,\n",
       "        <matplotlib.axes._subplots.AxesSubplot object at 0x000001E49356E860>]],\n",
       "      dtype=object)"
      ]
     },
     "execution_count": 62,
     "metadata": {},
     "output_type": "execute_result"
    },
    {
     "data": {
      "image/png": "[encoded data removed]",
      "text/plain": [
       "<Figure size 720x720 with 4 Axes>"
      ]
     },
     "metadata": {},
     "output_type": "display_data"
    }
   ],
   "source": [
    "scatter_matrix(recent_grads[['Median', 'Sample_size']], figsize=(10,10))"
   ]
  },
  {
   "cell_type": "code",
   "execution_count": 63,
   "metadata": {},
   "outputs": [
    {
     "data": {
      "text/plain": [
       "array([[<matplotlib.axes._subplots.AxesSubplot object at 0x000001E4935C29B0>,\n",
       "        <matplotlib.axes._subplots.AxesSubplot object at 0x000001E493885400>,\n",
       "        <matplotlib.axes._subplots.AxesSubplot object at 0x000001E4936666A0>],\n",
       "       [<matplotlib.axes._subplots.AxesSubplot object at 0x000001E493688940>,\n",
       "        <matplotlib.axes._subplots.AxesSubplot object at 0x000001E4936A8BE0>,\n",
       "        <matplotlib.axes._subplots.AxesSubplot object at 0x000001E4936A8C18>],\n",
       "       [<matplotlib.axes._subplots.AxesSubplot object at 0x000001E4936F1160>,\n",
       "        <matplotlib.axes._subplots.AxesSubplot object at 0x000001E493712400>,\n",
       "        <matplotlib.axes._subplots.AxesSubplot object at 0x000001E49372F6A0>]],\n",
       "      dtype=object)"
      ]
     },
     "execution_count": 63,
     "metadata": {},
     "output_type": "execute_result"
    },
    {
     "data": {
      "image/png": "[encoded data removed]",
      "text/plain": [
       "<Figure size 720x720 with 9 Axes>"
      ]
     },
     "metadata": {},
     "output_type": "display_data"
    }
   ],
   "source": [
    "scatter_matrix(recent_grads[['Sample_size', 'Median', 'Unemployment_rate']], figsize=(10,10))"
   ]
  },
  {
   "cell_type": "code",
   "execution_count": 68,
   "metadata": {},
   "outputs": [
    {
     "data": {
      "text/plain": [
       "<matplotlib.axes._subplots.AxesSubplot at 0x1e49412c860>"
      ]
     },
     "execution_count": 68,
     "metadata": {},
     "output_type": "execute_result"
    },
    {
     "data": {
      "image/png": "[encoded data removed]",
      "text/plain": [
       "<Figure size 432x288 with 1 Axes>"
      ]
     },
     "metadata": {},
     "output_type": "display_data"
    }
   ],
   "source": [
    "recent_grads[:10]['ShareWomen'].sort_values().plot(kind='bar')"
   ]
  },
  {
   "cell_type": "code",
   "execution_count": 69,
   "metadata": {},
   "outputs": [
    {
     "data": {
      "text/plain": [
       "<matplotlib.axes._subplots.AxesSubplot at 0x1e494122438>"
      ]
     },
     "execution_count": 69,
     "metadata": {},
     "output_type": "execute_result"
    },
    {
     "data": {
      "image/png": "[encoded data removed]",
      "text/plain": [
       "<Figure size 432x288 with 1 Axes>"
      ]
     },
     "metadata": {},
     "output_type": "display_data"
    }
   ],
   "source": [
    "recent_grads[-10:]['ShareWomen'].sort_values().plot(kind='bar')"
   ]
  },
  {
   "cell_type": "code",
   "execution_count": null,
   "metadata": {
    "collapsed": true
   },
   "outputs": [],
   "source": []
  }
 ],
 "metadata": {
  "kernelspec": {
   "display_name": "Python 3",
   "language": "python",
   "name": "python3"
  },
  "language_info": {
   "codemirror_mode": {
    "name": "ipython",
    "version": 3
   },
   "file_extension": ".py",
   "mimetype": "text/x-python",
   "name": "python",
   "nbconvert_exporter": "python",
   "pygments_lexer": "ipython3",
   "version": "3.6.3"
  }
 },
 "nbformat": 4,
 "nbformat_minor": 1
}
